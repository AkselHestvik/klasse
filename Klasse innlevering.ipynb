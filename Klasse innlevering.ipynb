{
 "cells": [
  {
   "cell_type": "markdown",
   "metadata": {},
   "source": [
    "# Oppgave om klasser"
   ]
  },
  {
   "cell_type": "markdown",
   "metadata": {},
   "source": [
    "## Oppgave 1"
   ]
  },
  {
   "cell_type": "markdown",
   "metadata": {},
   "source": [
    "### a)"
   ]
  },
  {
   "cell_type": "code",
   "execution_count": 7,
   "metadata": {},
   "outputs": [],
   "source": [
    "class Grunnstoff():\n",
    "    def __init__(self, a_num, sym, navn, masse, el_neg):\n",
    "        self.a_num = a_num\n",
    "        self.sym = sym\n",
    "        self.navn = navn\n",
    "        self.masse = masse #atommasse i u\n",
    "        self.el_neg = el_neg"
   ]
  },
  {
   "cell_type": "markdown",
   "metadata": {},
   "source": [
    "I oppgave a, skal vi bare lage en klasse Grunnstoff, med variablene som har blitt skrevet opp"
   ]
  },
  {
   "cell_type": "markdown",
   "metadata": {},
   "source": [
    "### b)"
   ]
  },
  {
   "cell_type": "code",
   "execution_count": 6,
   "metadata": {},
   "outputs": [],
   "source": [
    "class Grunnstoff():\n",
    "    def __init__(self, a_num, sym, navn, masse, el_neg):\n",
    "        self.a_num = a_num\n",
    "        self.sym = sym\n",
    "        self.navn = navn\n",
    "        self.masse = masse #atommasse i u\n",
    "        self.el_neg = el_neg\n",
    "\n",
    "#Alle stoffene, og informasjonen til dem\n",
    "karbon = Grunnstoff(6, \"C\", \"Karbon\", 12.0107, 2.55)\n",
    "litium = Grunnstoff(3, \"Li\", \"Litium\", 6.941, 0.98)\n",
    "fluor = Grunnstoff(9, \"F\", \"Fluor\", 18.9984, 3.98)\n",
    "brom = Grunnstoff(35, \"Br\", \"Brom\", 79.904, 2.96)\n",
    "klor = Grunnstoff(17, \"Cl\", \"Klor\", 35.453, 3.16)\n",
    "kalium = Grunnstoff(19, \"K\", \"Kalium\", 39.0983, 0.82)\n",
    "oksygen = Grunnstoff(8, \"O\", \"Oksygen\", 15.999, 3.44)\n",
    "hydrogen = Grunnstoff(1, \"H\", \"Hydrogen\", 1.008, 2.2)"
   ]
  },
  {
   "cell_type": "markdown",
   "metadata": {},
   "source": [
    "Her i oppgave b skal vi lage objekter/instanser ved hjelp av klassen. \n",
    "Vi oppgir atom nummeret, symbolet, navnet, massen i u og elektronegativiteten til grunnstoffene."
   ]
  },
  {
   "cell_type": "markdown",
   "metadata": {},
   "source": [
    "### c)"
   ]
  },
  {
   "cell_type": "code",
   "execution_count": 5,
   "metadata": {},
   "outputs": [],
   "source": [
    "class Grunnstoff():\n",
    "    def __init__(self, a_num, sym, navn, masse, el_neg):\n",
    "        self.a_num = a_num\n",
    "        self.sym = sym\n",
    "        self.navn = navn\n",
    "        self.masse = masse #atommasse i u\n",
    "        self.el_neg = el_neg\n",
    "\n",
    "#Alle stoffene, og informasjonen til dem\n",
    "karbon = Grunnstoff(6, \"C\", \"Karbon\", 12.0107, 2.55)\n",
    "litium = Grunnstoff(3, \"Li\", \"Litium\", 6.941, 0.98)\n",
    "fluor = Grunnstoff(9, \"F\", \"Fluor\", 18.9984, 3.98)\n",
    "brom = Grunnstoff(35, \"Br\", \"Brom\", 79.904, 2.96)\n",
    "klor = Grunnstoff(17, \"Cl\", \"Klor\", 35.453, 3.16)\n",
    "kalium = Grunnstoff(19, \"K\", \"Kalium\", 39.0983, 0.82)\n",
    "oksygen = Grunnstoff(8, \"O\", \"Oksygen\", 15.999, 3.44)\n",
    "hydrogen = Grunnstoff(1, \"H\", \"Hydrogen\", 1.008, 2.2)\n",
    "\n",
    "\n",
    "def bindingstype(elektro_atom_x, elektro_atom_y):\n",
    "    #Her har vi elektronegativiteten til de to ulike atomene\n",
    "    \n",
    "    #Regner ut elektronegativiteten\n",
    "    z = abs(elektro_atom_x - elektro_atom_y)\n",
    "    \n",
    "    if z >= 2:\n",
    "        print(\"Dette er en ionisk binding\")\n",
    "    \n",
    "    elif z < 2 and z > 1.6:\n",
    "        print(\"Type binding: Mellom ionisk og polar kovalent binding\")\n",
    "    \n",
    "    elif z <= 1.6 and z >= 0.5:\n",
    "        print(\"Dette er en polar kovalent binding\")\n",
    "    \n",
    "    elif z < 0.5 and z > 0.3:\n",
    "        print(\"Type binding: Mellom polar og upolar kovalent binding\")\n",
    "    \n",
    "    elif z <= 0.3:\n",
    "        print(\"Dette er en upolar kovalent binding\")\n",
    "    print(\"Elektronsforskjellen er\", z)\n",
    "    print(\"------------------------\")"
   ]
  },
  {
   "cell_type": "markdown",
   "metadata": {},
   "source": [
    "I oppgave c, skal vi lage en ny funksjon som tar to objekter fra klassen og finner forskjellen i elektronegativiteten for å avgjøre hva slags binding det blir, mellom to atomer. \n",
    "Da har du da elektronegativiteten til x atom - elektronegativiteten til y atom. Så tar vi absoluttverdien til det, i tilfelle man skriver stoffet med lavest el-neg først. Så sjekker programmet hva slags binding det blir, i henhold til hva forskjellen ble. \n",
    "\n"
   ]
  },
  {
   "cell_type": "markdown",
   "metadata": {},
   "source": [
    "### d)"
   ]
  },
  {
   "cell_type": "code",
   "execution_count": 16,
   "metadata": {},
   "outputs": [
    {
     "name": "stdout",
     "output_type": "stream",
     "text": [
      "------------------------\n",
      "Dette er en binding mellom Li og F\n",
      "Dette er en ionisk binding\n",
      "Elektronsforskjellen er 3.0\n",
      "------------------------\n",
      "Dette er en binding mellom Br og Cl\n",
      "Dette er en upolar kovalent binding\n",
      "Elektronsforskjellen er 0.20000000000000018\n",
      "------------------------\n",
      "Dette er en binding mellom K og O\n",
      "Dette er en ionisk binding\n",
      "Elektronsforskjellen er 2.62\n",
      "------------------------\n",
      "Dette er en binding mellom C og H\n",
      "Type binding: Mellom polar og upolar kovalent binding\n",
      "Elektronsforskjellen er 0.34999999999999964\n",
      "------------------------\n"
     ]
    }
   ],
   "source": [
    "class Grunnstoff():\n",
    "    def __init__(self, a_num, sym, navn, masse, el_neg):\n",
    "        self.a_num = a_num\n",
    "        self.sym = sym\n",
    "        self.navn = navn\n",
    "        self.masse = masse #atommasse i u\n",
    "        self.el_neg = el_neg\n",
    "\n",
    "#Alle stoffene, og informasjonen til dem\n",
    "karbon = Grunnstoff(6, \"C\", \"Karbon\", 12.0107, 2.55)\n",
    "litium = Grunnstoff(3, \"Li\", \"Litium\", 6.941, 0.98)\n",
    "fluor = Grunnstoff(9, \"F\", \"Fluor\", 18.9984, 3.98)\n",
    "brom = Grunnstoff(35, \"Br\", \"Brom\", 79.904, 2.96)\n",
    "klor = Grunnstoff(17, \"Cl\", \"Klor\", 35.453, 3.16)\n",
    "kalium = Grunnstoff(19, \"K\", \"Kalium\", 39.0983, 0.82)\n",
    "oksygen = Grunnstoff(8, \"O\", \"Oksygen\", 15.999, 3.44)\n",
    "hydrogen = Grunnstoff(1, \"H\", \"Hydrogen\", 1.008, 2.2)\n",
    "\n",
    "\n",
    "def bindingstype(elektro_atom_x, elektro_atom_y, symbol_x, symbol_y):\n",
    "    #Her har vi elektronegativiteten til de to ulike atomene og symbolene\n",
    "    \n",
    "    #Navnsetting\n",
    "    print(\"Dette er en binding mellom\", symbol_x, \"og\", symbol_y)\n",
    "    \n",
    "    #Regner ut elektronegativiteten\n",
    "    z = abs(elektro_atom_x - elektro_atom_y)\n",
    "    \n",
    "    if z >= 2:\n",
    "        print(\"Dette er en ionisk binding\")\n",
    "    \n",
    "    elif z < 2 and z > 1.6:\n",
    "        print(\"Type binding: Mellom ionisk og polar kovalent binding\")\n",
    "    \n",
    "    elif z <= 1.6 and z >= 0.5:\n",
    "        print(\"Dette er en polar kovalent binding\")\n",
    "    \n",
    "    elif z < 0.5 and z > 0.3:\n",
    "        print(\"Type binding: Mellom polar og upolar kovalent binding\")\n",
    "    \n",
    "    elif z <= 0.3:\n",
    "        print(\"Dette er en upolar kovalent binding\")\n",
    "    print(\"Elektronsforskjellen er\", z)\n",
    "    print(\"------------------------\")\n",
    "\n",
    "print(\"------------------------\")\n",
    "\n",
    "\n",
    "bindingstype(litium.el_neg, fluor.el_neg, litium.sym, fluor.sym)\n",
    "bindingstype(brom.el_neg, klor.el_neg, brom.sym, klor.sym)\n",
    "bindingstype(kalium.el_neg, oksygen.el_neg, kalium.sym, oksygen.sym) \n",
    "bindingstype(karbon.el_neg, hydrogen.el_neg, karbon.sym, hydrogen.sym) "
   ]
  },
  {
   "cell_type": "markdown",
   "metadata": {},
   "source": [
    "Her har vi bruk funksjonen til å se bindingen til stoffene. Selv om noen av stoffene, som for eksempel metan, har flere hydrogenatomer, har det ikke noe å si for bindingene mellom hvert atom.\n",
    "Her har jeg også lagt til i funksjonen at man kan se hvilke stoffer man nå ser på, slik at det blir mer oversiktlig"
   ]
  },
  {
   "cell_type": "code",
   "execution_count": null,
   "metadata": {},
   "outputs": [],
   "source": []
  }
 ],
 "metadata": {
  "kernelspec": {
   "display_name": "Python 3",
   "language": "python",
   "name": "python3"
  },
  "language_info": {
   "codemirror_mode": {
    "name": "ipython",
    "version": 3
   },
   "file_extension": ".py",
   "mimetype": "text/x-python",
   "name": "python",
   "nbconvert_exporter": "python",
   "pygments_lexer": "ipython3",
   "version": "3.7.3"
  }
 },
 "nbformat": 4,
 "nbformat_minor": 2
}
